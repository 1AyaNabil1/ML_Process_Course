{
 "cells": [
  {
   "cell_type": "markdown",
   "metadata": {},
   "source": [
    "# Missing Values\n",
    "\n",
    "\n",
    "### Import Libraries"
   ]
  },
  {
   "cell_type": "code",
   "execution_count": 13,
   "metadata": {},
   "outputs": [],
   "source": [
    "import pandas as pd\n",
    "import numpy as np\n",
    "import matplotlib.pyplot as plt\n",
    "from scipy import stats"
   ]
  },
  {
   "cell_type": "markdown",
   "metadata": {},
   "source": [
    "### Load Data"
   ]
  },
  {
   "cell_type": "code",
   "execution_count": 2,
   "metadata": {},
   "outputs": [],
   "source": [
    "df = pd.read_csv(\"clv_data.csv\")"
   ]
  },
  {
   "cell_type": "markdown",
   "metadata": {},
   "source": [
    "### Checking Null Values"
   ]
  },
  {
   "cell_type": "code",
   "execution_count": 5,
   "metadata": {},
   "outputs": [
    {
     "data": {
      "text/plain": [
       "Unnamed: 0             0\n",
       "id                     0\n",
       "age                 2455\n",
       "gender                 0\n",
       "income                 0\n",
       "days_on_platform       0\n",
       "city                   0\n",
       "purchases              0\n",
       "dtype: int64"
      ]
     },
     "execution_count": 5,
     "metadata": {},
     "output_type": "execute_result"
    }
   ],
   "source": [
    "df.isnull().sum()"
   ]
  },
  {
   "cell_type": "markdown",
   "metadata": {},
   "source": [
    "### Dropping Null Values"
   ]
  },
  {
   "cell_type": "code",
   "execution_count": 6,
   "metadata": {},
   "outputs": [
    {
     "data": {
      "text/html": [
       "<div>\n",
       "<style scoped>\n",
       "    .dataframe tbody tr th:only-of-type {\n",
       "        vertical-align: middle;\n",
       "    }\n",
       "\n",
       "    .dataframe tbody tr th {\n",
       "        vertical-align: top;\n",
       "    }\n",
       "\n",
       "    .dataframe thead th {\n",
       "        text-align: right;\n",
       "    }\n",
       "</style>\n",
       "<table border=\"1\" class=\"dataframe\">\n",
       "  <thead>\n",
       "    <tr style=\"text-align: right;\">\n",
       "      <th></th>\n",
       "      <th>Unnamed: 0</th>\n",
       "      <th>id</th>\n",
       "      <th>age</th>\n",
       "      <th>gender</th>\n",
       "      <th>income</th>\n",
       "      <th>days_on_platform</th>\n",
       "      <th>city</th>\n",
       "      <th>purchases</th>\n",
       "    </tr>\n",
       "  </thead>\n",
       "  <tbody>\n",
       "    <tr>\n",
       "      <th>4</th>\n",
       "      <td>4</td>\n",
       "      <td>4</td>\n",
       "      <td>25.0</td>\n",
       "      <td>Male</td>\n",
       "      <td>246676</td>\n",
       "      <td>1</td>\n",
       "      <td>Miami</td>\n",
       "      <td>1</td>\n",
       "    </tr>\n",
       "    <tr>\n",
       "      <th>5</th>\n",
       "      <td>5</td>\n",
       "      <td>5</td>\n",
       "      <td>29.0</td>\n",
       "      <td>Male</td>\n",
       "      <td>10178</td>\n",
       "      <td>0</td>\n",
       "      <td>London</td>\n",
       "      <td>0</td>\n",
       "    </tr>\n",
       "    <tr>\n",
       "      <th>6</th>\n",
       "      <td>6</td>\n",
       "      <td>6</td>\n",
       "      <td>47.0</td>\n",
       "      <td>Female</td>\n",
       "      <td>233154</td>\n",
       "      <td>1</td>\n",
       "      <td>London</td>\n",
       "      <td>1</td>\n",
       "    </tr>\n",
       "    <tr>\n",
       "      <th>7</th>\n",
       "      <td>7</td>\n",
       "      <td>7</td>\n",
       "      <td>27.0</td>\n",
       "      <td>Female</td>\n",
       "      <td>20732</td>\n",
       "      <td>0</td>\n",
       "      <td>London</td>\n",
       "      <td>2</td>\n",
       "    </tr>\n",
       "    <tr>\n",
       "      <th>8</th>\n",
       "      <td>8</td>\n",
       "      <td>8</td>\n",
       "      <td>39.0</td>\n",
       "      <td>Female</td>\n",
       "      <td>37934</td>\n",
       "      <td>0</td>\n",
       "      <td>Miami</td>\n",
       "      <td>0</td>\n",
       "    </tr>\n",
       "    <tr>\n",
       "      <th>...</th>\n",
       "      <td>...</td>\n",
       "      <td>...</td>\n",
       "      <td>...</td>\n",
       "      <td>...</td>\n",
       "      <td>...</td>\n",
       "      <td>...</td>\n",
       "      <td>...</td>\n",
       "      <td>...</td>\n",
       "    </tr>\n",
       "    <tr>\n",
       "      <th>4992</th>\n",
       "      <td>4992</td>\n",
       "      <td>4992</td>\n",
       "      <td>14.0</td>\n",
       "      <td>Female</td>\n",
       "      <td>65371</td>\n",
       "      <td>3</td>\n",
       "      <td>London</td>\n",
       "      <td>1</td>\n",
       "    </tr>\n",
       "    <tr>\n",
       "      <th>4993</th>\n",
       "      <td>4993</td>\n",
       "      <td>4993</td>\n",
       "      <td>40.0</td>\n",
       "      <td>Female</td>\n",
       "      <td>89222</td>\n",
       "      <td>1</td>\n",
       "      <td>London</td>\n",
       "      <td>4</td>\n",
       "    </tr>\n",
       "    <tr>\n",
       "      <th>4994</th>\n",
       "      <td>4994</td>\n",
       "      <td>4994</td>\n",
       "      <td>33.0</td>\n",
       "      <td>Female</td>\n",
       "      <td>29859</td>\n",
       "      <td>2</td>\n",
       "      <td>San Francisco</td>\n",
       "      <td>2</td>\n",
       "    </tr>\n",
       "    <tr>\n",
       "      <th>4996</th>\n",
       "      <td>4996</td>\n",
       "      <td>4996</td>\n",
       "      <td>46.0</td>\n",
       "      <td>Male</td>\n",
       "      <td>147961</td>\n",
       "      <td>0</td>\n",
       "      <td>Miami</td>\n",
       "      <td>2</td>\n",
       "    </tr>\n",
       "    <tr>\n",
       "      <th>4998</th>\n",
       "      <td>4998</td>\n",
       "      <td>4998</td>\n",
       "      <td>36.0</td>\n",
       "      <td>Female</td>\n",
       "      <td>172824</td>\n",
       "      <td>2</td>\n",
       "      <td>London</td>\n",
       "      <td>0</td>\n",
       "    </tr>\n",
       "  </tbody>\n",
       "</table>\n",
       "<p>2545 rows × 8 columns</p>\n",
       "</div>"
      ],
      "text/plain": [
       "      Unnamed: 0    id   age  gender  income  days_on_platform           city  \\\n",
       "4              4     4  25.0    Male  246676                 1          Miami   \n",
       "5              5     5  29.0    Male   10178                 0         London   \n",
       "6              6     6  47.0  Female  233154                 1         London   \n",
       "7              7     7  27.0  Female   20732                 0         London   \n",
       "8              8     8  39.0  Female   37934                 0          Miami   \n",
       "...          ...   ...   ...     ...     ...               ...            ...   \n",
       "4992        4992  4992  14.0  Female   65371                 3         London   \n",
       "4993        4993  4993  40.0  Female   89222                 1         London   \n",
       "4994        4994  4994  33.0  Female   29859                 2  San Francisco   \n",
       "4996        4996  4996  46.0    Male  147961                 0          Miami   \n",
       "4998        4998  4998  36.0  Female  172824                 2         London   \n",
       "\n",
       "      purchases  \n",
       "4             1  \n",
       "5             0  \n",
       "6             1  \n",
       "7             2  \n",
       "8             0  \n",
       "...         ...  \n",
       "4992          1  \n",
       "4993          4  \n",
       "4994          2  \n",
       "4996          2  \n",
       "4998          0  \n",
       "\n",
       "[2545 rows x 8 columns]"
      ]
     },
     "execution_count": 6,
     "metadata": {},
     "output_type": "execute_result"
    }
   ],
   "source": [
    "df.dropna()"
   ]
  },
  {
   "cell_type": "markdown",
   "metadata": {},
   "source": [
    "### Mean/Median/Mode Imputation"
   ]
  },
  {
   "cell_type": "code",
   "execution_count": 9,
   "metadata": {},
   "outputs": [],
   "source": [
    "## Mean\n",
    "df.loc[:,'age'] = df['age'].fillna(np.mean(df['age']))"
   ]
  },
  {
   "cell_type": "code",
   "execution_count": 10,
   "metadata": {},
   "outputs": [],
   "source": [
    "## Median\n",
    "df.loc[:,'age'] = df['age'].fillna(np.median(df['age']))"
   ]
  },
  {
   "cell_type": "code",
   "execution_count": 17,
   "metadata": {},
   "outputs": [],
   "source": [
    "## Mode\n",
    "df.loc[:,'age'] = df['age'].fillna(stats.mode(df['age'])[0][0])"
   ]
  },
  {
   "cell_type": "markdown",
   "metadata": {},
   "source": [
    "### Multiple Imputation Using Regression\n",
    "\n",
    "`estimator`: Different estimators:\n",
    "\n",
    "- `BayesianRidge`: Regularized Linear Regression\n",
    "\n",
    "- `RandomForestRegressor`: Random Forest Model. Mimics missForecast.\n",
    "\n",
    "- `KNeighborsRegressor`: K-Nearest Neighbor Regressor\n",
    "\n",
    "`missing_values`: Placeholder for missing values.\n",
    "\n",
    "`max_iter`: The number of iteration rounds."
   ]
  },
  {
   "cell_type": "code",
   "execution_count": 48,
   "metadata": {},
   "outputs": [],
   "source": [
    "from sklearn.experimental import enable_iterative_imputer\n",
    "from sklearn.impute import IterativeImputer, KNNImputer\n",
    "\n",
    "## Target - Purchases in the first six months\n",
    "\n",
    "X = df[['age','days_on_platform','income']]\n",
    "X_train = X_train[:4000]\n",
    "X_test = X[1000:]\n",
    "\n",
    "\n",
    "Imp = IterativeImputer(max_iter=10, random_state = 0)\n",
    "Imp.fit(X_train)\n",
    "X_test = Imp.transform(X_test)\n",
    "\n",
    "X_test_imp = pd.DataFrame(X_test)\n",
    "X_test_imp.columns = X_train.columns\n",
    "\n",
    "imputed_df = pd.concat([X_train,X_test_imp],axis = 0)"
   ]
  },
  {
   "cell_type": "markdown",
   "metadata": {},
   "source": [
    "### Nearest Neighbor Imputation\n",
    "\n",
    "**Important Parameters**\n",
    "\n",
    "`missing_values`: The placeholder for the missing values. \n",
    "\n",
    "`n_neighbors`: The number of neighbors to use for imputation.\n",
    "\n",
    "`weights`: Pick how you want to weight all points in each neighborhood\n",
    "\n",
    "- `uniform` : uniform weights. All points in each neighborhood are weighted equally.\n",
    "\n",
    "- `distance` : weight points by the inverse of their distance. in this case, closer neighbors of a query point will have a greater influence than neighbors which are further away.\n",
    "\n",
    "- `callable` : a user-defined function which accepts an array of distances, and returns an array of the same shape containing the weights.\n",
    "\n",
    "`metric`: The distance metric used to search for neighbors.\n",
    "\n",
    "`add_indicator`: This will add a feature if the value was imputed. This allows the estimator to account for the missing data as another feature, on top of imputation."
   ]
  },
  {
   "cell_type": "code",
   "execution_count": 49,
   "metadata": {},
   "outputs": [
    {
     "data": {
      "text/plain": [
       "array([[2.99343811e+01, 0.00000000e+00, 8.74470000e+04],\n",
       "       [2.99343811e+01, 2.00000000e+00, 3.42360000e+04],\n",
       "       [2.99343811e+01, 1.00000000e+00, 1.28247000e+05],\n",
       "       ...,\n",
       "       [2.99343811e+01, 2.00000000e+00, 6.85820000e+04],\n",
       "       [3.60000000e+01, 2.00000000e+00, 1.72824000e+05],\n",
       "       [2.99343811e+01, 0.00000000e+00, 1.30800000e+04]])"
      ]
     },
     "execution_count": 49,
     "metadata": {},
     "output_type": "execute_result"
    }
   ],
   "source": [
    "imputer = KNNImputer(n_neighbors=2, weights=\"uniform\")\n",
    "imputer.fit_transform(X)"
   ]
  },
  {
   "cell_type": "code",
   "execution_count": null,
   "metadata": {},
   "outputs": [],
   "source": []
  },
  {
   "cell_type": "code",
   "execution_count": null,
   "metadata": {},
   "outputs": [],
   "source": []
  },
  {
   "cell_type": "code",
   "execution_count": null,
   "metadata": {},
   "outputs": [],
   "source": []
  },
  {
   "cell_type": "code",
   "execution_count": null,
   "metadata": {},
   "outputs": [],
   "source": []
  },
  {
   "cell_type": "code",
   "execution_count": null,
   "metadata": {},
   "outputs": [],
   "source": []
  }
 ],
 "metadata": {
  "kernelspec": {
   "display_name": "Python 3",
   "language": "python",
   "name": "python3"
  },
  "language_info": {
   "codemirror_mode": {
    "name": "ipython",
    "version": 3
   },
   "file_extension": ".py",
   "mimetype": "text/x-python",
   "name": "python",
   "nbconvert_exporter": "python",
   "pygments_lexer": "ipython3",
   "version": "3.8.13"
  }
 },
 "nbformat": 4,
 "nbformat_minor": 4
}
